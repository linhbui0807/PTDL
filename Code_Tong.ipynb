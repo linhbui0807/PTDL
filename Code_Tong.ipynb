{
 "cells": [
  {
   "cell_type": "code",
   "execution_count": 7,
   "id": "fe4b6b60-e132-4490-b1ad-82e4c0608318",
   "metadata": {},
   "outputs": [
    {
     "name": "stdout",
     "output_type": "stream",
     "text": [
      "C:\\Users\\BICH THUY\\DATA_A\n"
     ]
    }
   ],
   "source": [
    "#Đường dẫn lấy thư mục đang làm việc Jupyter\n",
    "import os\n",
    "print(os.getcwd())"
   ]
  },
  {
   "cell_type": "code",
   "execution_count": null,
   "id": "98b533aa-dde4-425c-9648-b16b58035533",
   "metadata": {},
   "outputs": [],
   "source": [
    "import pandas as pd\n",
    "import os\n",
    "\n",
    "# Đường dẫn đến dataset (thay thế đường dẫn file thực tế của bạn)\n",
    "file_path = 'C:/Users/Admin/Documents/PhanTichDuLieu/ecommerce_customer_data_custom_ratios(moi).csv'\n",
    "\n",
    "# Kiểm tra file có tồn tại không\n",
    "if not os.path.exists(file_path):\n",
    "    raise FileNotFoundError(f\"File không tồn tại tại đường dẫn: {file_path}\")\n",
    "\n",
    "try:\n",
    "    # Đọc file CSV với delimiter là ';' và encoding là UTF-8\n",
    "    data = pd.read_csv(file_path, delimiter=';', encoding='utf-8')\n",
    "    print(\"Dữ liệu đã tải thành công!\")\n",
    "except Exception as e:\n",
    "    raise Exception(f\"Lỗi khi đọc file CSV: {e}\")\n",
    "\n",
    "# Hiển thị các cột ban đầu\n",
    "print(\"Các cột trong dataset:\", data.columns.tolist())\n",
    "\n",
    "# Danh sách các cột cần xóa\n",
    "columns_to_remove = [\"Customer Name\", \"Total Purchase Amount\", \"Payment Method\", \"Returns\", \"Age\", \"Churn\"]\n",
    "\n",
    "# Kiểm tra và xóa cột\n",
    "existing_columns_to_remove = [col for col in columns_to_remove if col in data.columns]\n",
    "data = data.drop(columns=existing_columns_to_remove)\n",
    "\n",
    "# Lọc cột bị xóa\n",
    "print(f\"Các cột đã xóa: {existing_columns_to_remove}\")\n",
    "if len(existing_columns_to_remove) < len(columns_to_remove):\n",
    "    missing_columns = set(columns_to_remove) - set(existing_columns_to_remove)\n",
    "    print(f\"Các cột không tồn tại trong dataset: {missing_columns}\")\n",
    "\n",
    "# Kiểm tra và hiển thị thông tin dataset sau khi xóa cột\n",
    "print(\"Dataset sau khi xóa cột:\")\n",
    "print(data.head())\n",
    "print(data.info())\n",
    "\n",
    "# Lưu file mới\n",
    "updated_file_path = 'updated_dataset.csv'\n",
    "try:\n",
    "    data.to_csv(updated_file_path, index=False)\n",
    "    print(f\"Dataset đã được lưu tại: {updated_file_path}\")\n",
    "except Exception as e:\n",
    "    raise Exception(f\"Lỗi khi lưu dataset: {e}\")"
   ]
  },
  {
   "cell_type": "code",
   "execution_count": 28,
   "id": "d621f590-57a3-4491-8843-ec5812ad0724",
   "metadata": {},
   "outputs": [
    {
     "name": "stdout",
     "output_type": "stream",
     "text": [
      "Tìm tất cả các dòng (Datapoint) chứa giá trị null\n",
      "Empty DataFrame\n",
      "Columns: [Customer ID;Purchase Date;Product Category;Product Price;Quantity;Total Purchase Amount;Payment Method;Customer Age;Returns;Customer Name;Age;Gender;Churn]\n",
      "Index: []\n",
      "\n",
      "Xuất ra tất cả các dòng duplicate \n",
      "Empty DataFrame\n",
      "Columns: [Customer ID;Purchase Date;Product Category;Product Price;Quantity;Total Purchase Amount;Payment Method;Customer Age;Returns;Customer Name;Age;Gender;Churn]\n",
      "Index: []\n",
      "Số dòng bị duplicate: 0\n"
     ]
    }
   ],
   "source": [
    "#CHECK_ISNULL\n",
    "print(\"Tìm tất cả các dòng (Datapoint) chứa giá trị null\")\n",
    "\n",
    "import pandas as pd\n",
    "\n",
    "#đọc file \n",
    "df = pd.read_csv('C:/Users/BICH THUY/DATA_A/ecommerce_customer_data_custom_ratios.csv')\n",
    "\n",
    "# Tìm tất cả các dòng có ít nhất một giá trị null\n",
    "rows_with_null = df[df.isnull().any(axis=1)]\n",
    "#Kiểm tra nếu bất kỳ giá trị nào trong hàng (axis=1) là null.\n",
    "\n",
    "print(rows_with_null)\n",
    "\n",
    "#CHECK_DUPLICATE\n",
    "print(\"\\nXuất ra tất cả các dòng duplicate \")\n",
    "import pandas as pd\n",
    "\n",
    "# Tìm tất cả các dòng bị duplicate (bao gồm cả dòng đầu tiên)\n",
    "duplicates = df[df.duplicated(keep=False)]\n",
    "   #keep=False: Bao gồm tất cả các dòng thuộc nhóm duplicate, không bỏ qua dòng đầu tiên như mặc định.\n",
    "print(duplicates)\n",
    "\n",
    "# Đếm số dòng duplicate (bao gồm cả dòng đầu tiên)\n",
    "duplicate_count = duplicates.shape[0]\n",
    "  #Truy cập số dòng trong DataFrame bị duplicates.Kết quả này là tổng số dòng bị duplicate.\n",
    "print(f\"Số dòng bị duplicate: {duplicate_count}\")\n",
    "\n",
    "#XỬ LÝ DLIEU NHIỄU (Dlieu ko the giai thich duoc)"
   ]
  },
  {
   "cell_type": "code",
   "execution_count": 15,
   "id": "7d9b6b63-604d-441d-ac48-3326263b2597",
   "metadata": {},
   "outputs": [
    {
     "name": "stdout",
     "output_type": "stream",
     "text": [
      "<class 'pandas.core.frame.DataFrame'>\n"
     ]
    }
   ],
   "source": [
    "print(type(data))\n"
   ]
  },
  {
   "cell_type": "code",
   "execution_count": 50,
   "id": "065bdc9a-4952-4996-b32a-dd54f72f7505",
   "metadata": {},
   "outputs": [
    {
     "name": "stdout",
     "output_type": "stream",
     "text": [
      "Outliers in Age:\n",
      "Empty DataFrame\n",
      "Columns: [Customer ID, Purchase Date, Product Category, Product Price, Quantity, Total Purchase Amount, Payment Method, Customer Age, Returns, Customer Name, Age, Gender, Churn]\n",
      "Index: []\n",
      "\n",
      "=======Dữ liệu sau khi chuẩn hóa Min - Max\n",
      "\n",
      "Thông tin dữ liệu sau chuẩn hóa:\n",
      "        Customer ID  Product Price       Quantity   Customer Age\n",
      "count  250000.00000  250000.000000  250000.000000  250000.000000\n",
      "mean    25004.03624     254.659512       2.998896      43.940528\n",
      "std     14428.27959     141.568577       1.414694      15.350246\n",
      "min         1.00000      10.000000       1.000000      18.000000\n",
      "25%     12497.75000     132.000000       2.000000      31.000000\n",
      "50%     25018.00000     255.000000       3.000000      44.000000\n",
      "75%     37506.00000     377.000000       4.000000      57.000000\n",
      "max     50000.00000     500.000000       5.000000      70.000000\n",
      "Dữ liệu đã chuẩn hóa và lưu vào file: normalized_dataset.csv\n"
     ]
    }
   ],
   "source": [
    "#Phát hiện giá trị ngoại lai\n",
    "# Tính IQR cho cột Age\n",
    "Q1_age = df['Customer Age'].quantile(0.25) #quý 1 - 25%\n",
    "Q3_age = df['Customer Age'].quantile(0.75) #quý 3 - 75%\n",
    "IQR_age = Q3_age - Q1_age\n",
    "\n",
    "lower_bound_age = Q1_age - 1.5 * IQR_age \n",
    "upper_bound_age = Q3_age + 1.5 * IQR_age \n",
    "\n",
    "# Phát hiện giá trị ngoại lai trong cột Age\n",
    "outliers_age = df[(df['Customer Age'] < lower_bound_age) | (df['Customer Age'] > upper_bound_age)]\n",
    "print(\"Outliers in Age:\")\n",
    "print(outliers_age)\n",
    "\n",
    "#Chuẩn hóa dữ liệu PP Min - Max\n",
    "import pandas as pd\n",
    "from sklearn.preprocessing import StandardScaler\n",
    "\n",
    "print(\"\\n=======Dữ liệu sau khi chuẩn hóa Min - Max\")\n",
    "\n",
    "from sklearn.preprocessing import MinMaxScaler\n",
    "#đọc file \n",
    "file_path = 'C:/Users/BICH THUY/DATA_A/ecommerce_customer_data_custom_ratios.csv'  \n",
    "df = pd.read_csv(file_path, delimiter=';', encoding='utf-8')\n",
    "df.head()\n",
    "\n",
    "#Lọc ra các cột để chuẩn hóa\n",
    "numeric_columns = df.select_dtypes(include=['float64', 'int64']).columns\n",
    "\n",
    "# Chuẩn hóa Min-Max toàn bộ các cột\n",
    "scaler = MinMaxScaler() #khởi tạo bộ chuẩn hóa \n",
    "df[numeric_columns] = scaler.fit_transform(df[numeric_columns])\n",
    "\n",
    "print(\"\\nThông tin dữ liệu sau chuẩn hóa:\")\n",
    "print(data.describe())\n",
    "\n",
    "# Lưu dataset đã chuẩn hóa\n",
    "normalized_file_path = 'normalized_dataset.csv'\n",
    "data.to_csv(normalized_file_path, index=False, encoding='utf-8-sig')\n",
    "print(f\"Dữ liệu đã chuẩn hóa và lưu vào file: {normalized_file_path}\")\n"
   ]
  }
 ],
 "metadata": {
  "kernelspec": {
   "display_name": "Python 3 (ipykernel)",
   "language": "python",
   "name": "python3"
  },
  "language_info": {
   "codemirror_mode": {
    "name": "ipython",
    "version": 3
   },
   "file_extension": ".py",
   "mimetype": "text/x-python",
   "name": "python",
   "nbconvert_exporter": "python",
   "pygments_lexer": "ipython3",
   "version": "3.12.4"
  }
 },
 "nbformat": 4,
 "nbformat_minor": 5
}
