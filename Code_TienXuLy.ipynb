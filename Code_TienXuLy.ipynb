{
 "cells": [
  {
   "cell_type": "code",
   "execution_count": 3,
   "id": "cce0cf57-7931-4925-b016-b296384d4e12",
   "metadata": {},
   "outputs": [
    {
     "name": "stdout",
     "output_type": "stream",
     "text": [
      "Các cột trong dataset:\n",
      " ['Customer ID', 'Purchase Date', 'Product Category', 'Product Price', 'Quantity', 'Total Purchase Amount', 'Payment Method', 'Customer Age', 'Returns', 'Customer Name', 'Age', 'Gender', 'Churn']\n",
      " Kiểm tra thông tin dataset:\n",
      "\n",
      "<class 'pandas.core.frame.DataFrame'>\n",
      "RangeIndex: 250000 entries, 0 to 249999\n",
      "Data columns (total 13 columns):\n",
      " #   Column                 Non-Null Count   Dtype  \n",
      "---  ------                 --------------   -----  \n",
      " 0   Customer ID            250000 non-null  int64  \n",
      " 1   Purchase Date          250000 non-null  object \n",
      " 2   Product Category       250000 non-null  object \n",
      " 3   Product Price          250000 non-null  int64  \n",
      " 4   Quantity               250000 non-null  int64  \n",
      " 5   Total Purchase Amount  250000 non-null  int64  \n",
      " 6   Payment Method         250000 non-null  object \n",
      " 7   Customer Age           250000 non-null  int64  \n",
      " 8   Returns                202404 non-null  float64\n",
      " 9   Customer Name          250000 non-null  object \n",
      " 10  Age                    250000 non-null  int64  \n",
      " 11  Gender                 250000 non-null  object \n",
      " 12  Churn                  250000 non-null  int64  \n",
      "dtypes: float64(1), int64(7), object(5)\n",
      "memory usage: 24.8+ MB\n"
     ]
    },
    {
     "data": {
      "text/html": [
       "<div>\n",
       "<style scoped>\n",
       "    .dataframe tbody tr th:only-of-type {\n",
       "        vertical-align: middle;\n",
       "    }\n",
       "\n",
       "    .dataframe tbody tr th {\n",
       "        vertical-align: top;\n",
       "    }\n",
       "\n",
       "    .dataframe thead th {\n",
       "        text-align: right;\n",
       "    }\n",
       "</style>\n",
       "<table border=\"1\" class=\"dataframe\">\n",
       "  <thead>\n",
       "    <tr style=\"text-align: right;\">\n",
       "      <th></th>\n",
       "      <th>Customer ID</th>\n",
       "      <th>Purchase Date</th>\n",
       "      <th>Product Category</th>\n",
       "      <th>Product Price</th>\n",
       "      <th>Quantity</th>\n",
       "      <th>Total Purchase Amount</th>\n",
       "      <th>Payment Method</th>\n",
       "      <th>Customer Age</th>\n",
       "      <th>Returns</th>\n",
       "      <th>Customer Name</th>\n",
       "      <th>Age</th>\n",
       "      <th>Gender</th>\n",
       "      <th>Churn</th>\n",
       "    </tr>\n",
       "  </thead>\n",
       "  <tbody>\n",
       "    <tr>\n",
       "      <th>0</th>\n",
       "      <td>46251</td>\n",
       "      <td>8/9/2020 9:38</td>\n",
       "      <td>Electronics</td>\n",
       "      <td>12</td>\n",
       "      <td>3</td>\n",
       "      <td>740</td>\n",
       "      <td>Credit Card</td>\n",
       "      <td>37</td>\n",
       "      <td>0.0</td>\n",
       "      <td>Christine Hernandez</td>\n",
       "      <td>37</td>\n",
       "      <td>Male</td>\n",
       "      <td>0</td>\n",
       "    </tr>\n",
       "    <tr>\n",
       "      <th>1</th>\n",
       "      <td>46251</td>\n",
       "      <td>5/3/2022 12:56</td>\n",
       "      <td>Home</td>\n",
       "      <td>468</td>\n",
       "      <td>4</td>\n",
       "      <td>2739</td>\n",
       "      <td>PayPal</td>\n",
       "      <td>37</td>\n",
       "      <td>0.0</td>\n",
       "      <td>Christine Hernandez</td>\n",
       "      <td>37</td>\n",
       "      <td>Male</td>\n",
       "      <td>0</td>\n",
       "    </tr>\n",
       "    <tr>\n",
       "      <th>2</th>\n",
       "      <td>46251</td>\n",
       "      <td>23/5/2022 18:18</td>\n",
       "      <td>Home</td>\n",
       "      <td>288</td>\n",
       "      <td>2</td>\n",
       "      <td>3196</td>\n",
       "      <td>PayPal</td>\n",
       "      <td>37</td>\n",
       "      <td>0.0</td>\n",
       "      <td>Christine Hernandez</td>\n",
       "      <td>37</td>\n",
       "      <td>Male</td>\n",
       "      <td>0</td>\n",
       "    </tr>\n",
       "    <tr>\n",
       "      <th>3</th>\n",
       "      <td>46251</td>\n",
       "      <td>12/11/2020 13:13</td>\n",
       "      <td>Clothing</td>\n",
       "      <td>196</td>\n",
       "      <td>1</td>\n",
       "      <td>3509</td>\n",
       "      <td>PayPal</td>\n",
       "      <td>37</td>\n",
       "      <td>0.0</td>\n",
       "      <td>Christine Hernandez</td>\n",
       "      <td>37</td>\n",
       "      <td>Male</td>\n",
       "      <td>0</td>\n",
       "    </tr>\n",
       "    <tr>\n",
       "      <th>4</th>\n",
       "      <td>13593</td>\n",
       "      <td>27/11/2020 17:55</td>\n",
       "      <td>Home</td>\n",
       "      <td>449</td>\n",
       "      <td>1</td>\n",
       "      <td>3452</td>\n",
       "      <td>Credit Card</td>\n",
       "      <td>49</td>\n",
       "      <td>0.0</td>\n",
       "      <td>James Grant</td>\n",
       "      <td>49</td>\n",
       "      <td>Female</td>\n",
       "      <td>1</td>\n",
       "    </tr>\n",
       "  </tbody>\n",
       "</table>\n",
       "</div>"
      ],
      "text/plain": [
       "   Customer ID     Purchase Date Product Category  Product Price  Quantity  \\\n",
       "0        46251     8/9/2020 9:38      Electronics             12         3   \n",
       "1        46251    5/3/2022 12:56             Home            468         4   \n",
       "2        46251   23/5/2022 18:18             Home            288         2   \n",
       "3        46251  12/11/2020 13:13         Clothing            196         1   \n",
       "4        13593  27/11/2020 17:55             Home            449         1   \n",
       "\n",
       "   Total Purchase Amount Payment Method  Customer Age  Returns  \\\n",
       "0                    740    Credit Card            37      0.0   \n",
       "1                   2739         PayPal            37      0.0   \n",
       "2                   3196         PayPal            37      0.0   \n",
       "3                   3509         PayPal            37      0.0   \n",
       "4                   3452    Credit Card            49      0.0   \n",
       "\n",
       "         Customer Name  Age  Gender  Churn  \n",
       "0  Christine Hernandez   37    Male      0  \n",
       "1  Christine Hernandez   37    Male      0  \n",
       "2  Christine Hernandez   37    Male      0  \n",
       "3  Christine Hernandez   37    Male      0  \n",
       "4          James Grant   49  Female      1  "
      ]
     },
     "execution_count": 3,
     "metadata": {},
     "output_type": "execute_result"
    }
   ],
   "source": [
    "import numpy as np\n",
    "import pandas as pd\n",
    "import os\n",
    "\n",
    "# read file\n",
    "data = pd.read_csv(\"ecommerce_customer_data_custom_ratios.csv\")\n",
    "\n",
    "# Hiển thị các cột ban đầu\n",
    "print(\"Các cột trong dataset:\\n\", data.columns.tolist())\n",
    "\n",
    "# Ktra ttin\n",
    "print(\" Kiểm tra thông tin dataset:\\n\")\n",
    "data.info() # Lấy thông tin về số lượng và kiểu dữ liệu của các cột trong DataFrame\n",
    "data.shape  # Trả về một tuple chứa tổng số hàng và cột của DataFrame\n",
    "data.head() # Hiển thị trước 4 hàng đầu tiên của tập dữ liệu"
   ]
  },
  {
   "cell_type": "code",
   "execution_count": 7,
   "id": "1907b3b0-4c63-4d4a-a0d4-f0cad736bf1d",
   "metadata": {},
   "outputs": [
    {
     "name": "stdout",
     "output_type": "stream",
     "text": [
      "Đếm số lượng giá trị duy nhất trong mỗi cột: \n"
     ]
    },
    {
     "data": {
      "text/plain": [
       "Customer ID               49673\n",
       "Purchase Date            234633\n",
       "Product Category              4\n",
       "Product Price               491\n",
       "Quantity                      5\n",
       "Total Purchase Amount      5247\n",
       "Payment Method                4\n",
       "Customer Age                 53\n",
       "Returns                       2\n",
       "Customer Name             39920\n",
       "Age                          53\n",
       "Gender                        2\n",
       "Churn                         2\n",
       "dtype: int64"
      ]
     },
     "execution_count": 7,
     "metadata": {},
     "output_type": "execute_result"
    }
   ],
   "source": [
    "# Đếm số lượng giá trị duy nhất trong mỗi cột\n",
    "print (\"Đếm số lượng giá trị duy nhất trong mỗi cột: \")\n",
    "data.nunique()"
   ]
  },
  {
   "cell_type": "code",
   "execution_count": 9,
   "id": "5921a798-c6d6-471d-96ae-067c946dfa9e",
   "metadata": {},
   "outputs": [
    {
     "name": "stdout",
     "output_type": "stream",
     "text": [
      "\n",
      "Chuyển định dạng Datetime:\n",
      "0   2020-09-08 09:38:00\n",
      "1   2022-03-05 12:56:00\n",
      "2   2022-05-23 18:18:00\n",
      "3   2020-11-12 13:13:00\n",
      "4   2020-11-27 17:55:00\n",
      "Name: Purchase Date, dtype: datetime64[ns]\n"
     ]
    }
   ],
   "source": [
    "# Chuyển cột 'Purchase Date' sang datetime với định dạng DD/MM/YYYY HH:MM\n",
    "print(\"\\nChuyển định dạng Datetime:\")\n",
    "data['Purchase Date'] = pd.to_datetime(data['Purchase Date'], format='%d/%m/%Y %H:%M')\n",
    "# Kiểm tra kết quả\n",
    "print(data['Purchase Date'].head())"
   ]
  },
  {
   "cell_type": "code",
   "execution_count": 13,
   "id": "f11d0728-d76a-49ac-ac06-42aed09436ca",
   "metadata": {},
   "outputs": [
    {
     "name": "stdout",
     "output_type": "stream",
     "text": [
      "Các cột đã xóa: []\n",
      "Các cột không tồn tại trong dataset: {'Total Purchase Amount', 'Customer Name', 'Churn', 'Age', 'Returns', 'Payment Method'}\n",
      "Dataset sau khi xóa cột:\n",
      "   Customer ID       Purchase Date Product Category  Product Price  Quantity  \\\n",
      "0        46251 2020-09-08 09:38:00      Electronics             12         3   \n",
      "1        46251 2022-03-05 12:56:00             Home            468         4   \n",
      "2        46251 2022-05-23 18:18:00             Home            288         2   \n",
      "3        46251 2020-11-12 13:13:00         Clothing            196         1   \n",
      "4        13593 2020-11-27 17:55:00             Home            449         1   \n",
      "\n",
      "   Customer Age  Gender  \n",
      "0            37    Male  \n",
      "1            37    Male  \n",
      "2            37    Male  \n",
      "3            37    Male  \n",
      "4            49  Female  \n"
     ]
    }
   ],
   "source": [
    "# Danh sách các cột cần xóa\n",
    "columns_to_remove = [\"Customer Name\", \"Total Purchase Amount\", \"Payment Method\", \"Returns\", \"Age\", \"Churn\"]\n",
    "\n",
    "# Kiểm tra và xóa cột\n",
    "existing_columns_to_remove = [col for col in columns_to_remove if col in data.columns]\n",
    "data = data.drop(columns=existing_columns_to_remove)\n",
    "\n",
    "# Lọc cột bị xóa\n",
    "print(f\"Các cột đã xóa: {existing_columns_to_remove}\")\n",
    "if len(existing_columns_to_remove) < len(columns_to_remove):\n",
    "    missing_columns = set(columns_to_remove) - set(existing_columns_to_remove)\n",
    "    print(f\"Các cột không tồn tại trong dataset: {missing_columns}\")\n",
    "\n",
    "# Kiểm tra và hiển thị thông tin dataset sau khi xóa cột\n",
    "print(\"Dataset sau khi xóa cột:\")\n",
    "print(data.head())\n",
    "\n"
   ]
  },
  {
   "cell_type": "code",
   "execution_count": 17,
   "id": "31584ef5-0369-410b-98a6-093f49f5b6a0",
   "metadata": {},
   "outputs": [
    {
     "name": "stdout",
     "output_type": "stream",
     "text": [
      "Dataset đã được lưu tại: updated_dataset.csv\n"
     ]
    }
   ],
   "source": [
    "# Lưu file mới\n",
    "updated_file_path = 'updated_dataset.csv'\n",
    "try:\n",
    "    data.to_csv(updated_file_path, index=False)\n",
    "    print(f\"Dataset đã được lưu tại: {updated_file_path}\")\n",
    "except Exception as e:\n",
    "    raise Exception(f\"Lỗi khi lưu dataset: {e}\")"
   ]
  },
  {
   "cell_type": "code",
   "execution_count": 21,
   "id": "36d38e6a-9f30-47d4-af52-49cf848ce124",
   "metadata": {},
   "outputs": [
    {
     "name": "stdout",
     "output_type": "stream",
     "text": [
      "Empty DataFrame\n",
      "Columns: [Customer ID, Purchase Date, Product Category, Product Price, Quantity, Customer Age, Gender]\n",
      "Index: []\n"
     ]
    }
   ],
   "source": [
    "# Tìm tất cả các dòng có ít nhất một giá trị null\n",
    "rows_with_null = data[data.isnull().any(axis=1)]\n",
    "#Kiểm tra nếu bất kỳ giá trị nào trong hàng (axis=1) là null.\n",
    "\n",
    "print(rows_with_null)"
   ]
  },
  {
   "cell_type": "code",
   "execution_count": 23,
   "id": "c312c2a2-9f5e-4889-bbd9-1d2707e73aec",
   "metadata": {},
   "outputs": [
    {
     "data": {
      "text/html": [
       "<div>\n",
       "<style scoped>\n",
       "    .dataframe tbody tr th:only-of-type {\n",
       "        vertical-align: middle;\n",
       "    }\n",
       "\n",
       "    .dataframe tbody tr th {\n",
       "        vertical-align: top;\n",
       "    }\n",
       "\n",
       "    .dataframe thead th {\n",
       "        text-align: right;\n",
       "    }\n",
       "</style>\n",
       "<table border=\"1\" class=\"dataframe\">\n",
       "  <thead>\n",
       "    <tr style=\"text-align: right;\">\n",
       "      <th></th>\n",
       "      <th>Customer ID</th>\n",
       "      <th>Purchase Date</th>\n",
       "      <th>Product Category</th>\n",
       "      <th>Product Price</th>\n",
       "      <th>Quantity</th>\n",
       "      <th>Customer Age</th>\n",
       "      <th>Gender</th>\n",
       "    </tr>\n",
       "  </thead>\n",
       "  <tbody>\n",
       "  </tbody>\n",
       "</table>\n",
       "</div>"
      ],
      "text/plain": [
       "Empty DataFrame\n",
       "Columns: [Customer ID, Purchase Date, Product Category, Product Price, Quantity, Customer Age, Gender]\n",
       "Index: []"
      ]
     },
     "execution_count": 23,
     "metadata": {},
     "output_type": "execute_result"
    }
   ],
   "source": [
    "#Kiểm tra duplicates, trả về tất cả cột duplicates\n",
    "data[data.duplicated(keep=False)] "
   ]
  },
  {
   "cell_type": "code",
   "execution_count": 25,
   "id": "493cf300-05de-4882-ac99-553d8c758278",
   "metadata": {},
   "outputs": [
    {
     "name": "stdout",
     "output_type": "stream",
     "text": [
      "Outliers in Age:\n",
      "Empty DataFrame\n",
      "Columns: [Customer ID, Purchase Date, Product Category, Product Price, Quantity, Customer Age, Gender]\n",
      "Index: []\n"
     ]
    }
   ],
   "source": [
    "#Phát hiện giá trị ngoại lai\n",
    "# Tính IQR cho cột Age\n",
    "Q1_age = data['Customer Age'].quantile(0.25) #quý 1 - 25%\n",
    "Q3_age = data['Customer Age'].quantile(0.75) #quý 3 - 75%\n",
    "IQR_age = Q3_age - Q1_age\n",
    "\n",
    "lower_bound_age = Q1_age - 1.5 * IQR_age \n",
    "upper_bound_age = Q3_age + 1.5 * IQR_age \n",
    "\n",
    "# Phát hiện giá trị ngoại lai trong cột Age\n",
    "outliers_age = data[(data['Customer Age'] < lower_bound_age) | (data['Customer Age'] > upper_bound_age)]\n",
    "print(\"Outliers in Age:\")\n",
    "print(outliers_age)\n"
   ]
  },
  {
   "cell_type": "code",
   "execution_count": null,
   "id": "205a73fc-a933-4a5c-9829-58e1666b6843",
   "metadata": {},
   "outputs": [],
   "source": []
  }
 ],
 "metadata": {
  "kernelspec": {
   "display_name": "Python 3 (ipykernel)",
   "language": "python",
   "name": "python3"
  },
  "language_info": {
   "codemirror_mode": {
    "name": "ipython",
    "version": 3
   },
   "file_extension": ".py",
   "mimetype": "text/x-python",
   "name": "python",
   "nbconvert_exporter": "python",
   "pygments_lexer": "ipython3",
   "version": "3.12.4"
  }
 },
 "nbformat": 4,
 "nbformat_minor": 5
}
